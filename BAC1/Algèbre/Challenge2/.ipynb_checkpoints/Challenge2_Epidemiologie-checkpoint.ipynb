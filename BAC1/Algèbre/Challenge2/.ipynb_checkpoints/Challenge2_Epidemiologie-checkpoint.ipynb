{
 "cells": [
  {
   "cell_type": "markdown",
   "metadata": {},
   "source": [
    "<font size=6  color=#003366> <b>[LINFO1112] - Algèbre <br><br> \n",
    "Un problème d'épidémiologie... </b> </font> <br><br><br>\n",
    "\n",
    "<font size=5  color=#003366>\n",
    "Prof. C. Craeye<br>\n",
    "Prof. T. Peters<br>\n",
    "<br><br>\n",
    "Benoit Brummer     (benoit.brummer@uclouvain.be) <br>\n",
    "Anne-Sophie Collin (anne-sophie.collin@uclouvain.be)<br>\n",
    "Simon Demey        (simon.demey@uclouvain.be)<br>\n",
    "Thibaut Grouy      (thibaut.grouy@uclouvain.be)<br>\n",
    "Mathieu Xhonneux   (mathieu.xhonneux@uclouvain.be)<br>\n",
    "<div style=\"text-align: right\"> Année 2020-2021 </div>\n",
    "<br><br>\n",
    "</font>"
   ]
  },
  {
   "cell_type": "markdown",
   "metadata": {},
   "source": [
    "<font size=4  color=#003366> <b>Veuillez indiquez la composition de votre groupe ici : </b> <br>\n",
    "Etudiant 1 : Balde - Lamarana <br>\n",
    "Etudiant 2 : Diallo - Ibrahima <br>\n",
    "<br><br>\n",
    "</font>"
   ]
  },
  {
   "cell_type": "markdown",
   "metadata": {},
   "source": [
    "<font size=5 color=#003366> <b> Description du problème </b> </font> <br> \n",
    "\n",
    "<div class=\"alert alert-info\">\n",
    "Gotham City est en émoi. Une maladie inconnue et contagieuse vient de frapper la ville. L'asile d'Arkham a été vidé de ses pensionnaires criminels et transformé en un hôpital spécialisé dédié à combattre l'épidémie.\n",
    "Vous êtes contactés par une équipe d'épidémiologistes pour fournir une analyse de l'évolution des malades. Le modèle dynamique est le suivant.<br>\n",
    "\n",
    "<ol>\n",
    "    <d> Les patients sont séparés en trois catégories. Les patients exposés (E) sont ceux qui sont soupçonnés d'avoir la maladie parce qu'ils ont eu des contacts avec des personnes infectées. Ils sont installés dans l'aile Est d'Arkham où ils sont surveillés. Ils n'ont pas de symptôme mais sont potentiellement contagieux. Les patients infectés (I) sont ceux qui présentent des symptômes. Ils sont soignés dans l'aile Nord. Enfin, les patients en rémission sont placés en observation (O) dans l'aile Ouest pendant quelques temps avant d'être déclarés guéris.<br><br>\n",
    "   \n",
    "   <d> Les études préliminaires montrent que les patients <font color=#003366><b>exposés (E) ont une chance sur deux d'être effectivement infectés</b></font> et de développer des symptômes au bout d'une semaine. Les autres sont renvoyés chez eux. Par ailleurs, sur une période d'une semaine, on observe que <font color=#003366><b>1/4 des personnes infectées (I) succombent</b></font> à leur maladie tandis que <font color=#003366><b>le reste est mis en observation (O)</b></font> pour une semaine supplémentaire. Parmi les patients en <font color=#003366><b>observation (O), 1/6 est encore susceptible de faire une rechute</b></font> et de développer de nouveaux symptômes (ils sont donc transférés vers l'aile des patients exposés) et une autre proportion de <font color=#003366><b>1/6 refait directement des symptômes </b></font> (ils sont donc transférés vers l'aile des patients infectés). Les autres sont renvoyés chez eux.<br><br>\n",
    "   \n",
    "   <d> Comme la maladie sévit aussi dans la ville, l'hôpital est bien forcé d'admettre chaque semaine de nouveaux patients. Le nombre de <font color=#003366><b>nouveaux patients exposés correspond à environ la moitié des patients exposés déjà présents avant leur arrivée</b></font>. D'autres nouveaux patients arrivent directement avec des symptômes et sont donc envoyés dans l'aile des personnes infectées: ces <font color=#003366><b>nouveaux infectés correspondent à un tiers des personnes infectées déjà présentes avant leur arrivée</b></font>. Par ailleurs, le personnel soignant, par manque de moyens et d'effectifs, commet des erreurs et se retrouve parfois en contact direct avec les patients infectés: <font color=#003366><b>chaque infecté génère donc de nouveaux exposés à raison d'une proportion de 25%</b></font>, par semaine. <br><br>\n",
    "</ol>\n",
    "\n",
    "En notant respectivement $p_E^m$, $p_I^m$, $p_O^m$ la population de malades exposés, infectés et en observation après $m$ semaines, l'évolution des patients peut être décrite par une relation de la forme:\n",
    "<font color=#003366><b>\n",
    "$$\n",
    "\\begin{pmatrix} \n",
    "p_E^{m+1} \\\\\n",
    "p_I^{m+1} \\\\\n",
    "p_O^{m+1} \n",
    "\\end{pmatrix}\n",
    "= \n",
    "A \n",
    "\\begin{pmatrix} \n",
    "p_E^{m} \\\\\n",
    "p_I^{m} \\\\\n",
    "p_O^{m} \n",
    "\\end{pmatrix}\n",
    "$$</b></font><br>\n",
    "\n",
    "où $A$ est une matrice carrée d'ordre 3 dont les coefficients peuvent être déterminés par les données du problème. Répondez aux questions ci-dessous. \n",
    "</div>\n",
    "<br><br>"
   ]
  },
  {
   "cell_type": "markdown",
   "metadata": {},
   "source": [
    "# <font size=5 color=#003366> <b>1. Trouver la matrice A</b> </font> <br> \n",
    "\n",
    "<div class=\"alert alert-info\">\n",
    "<b>[Question 1.1]</b> \n",
    "La matrice A est une matrice carrée d’ordre 3. Donnez sa forme explicite.<br>\n",
    "<i>Indice: Ecrivez la relation matricielle précédente sous forme d'un système de 3 équations à 3 inconnues. </i> \n",
    "</div>"
   ]
  },
  {
   "cell_type": "markdown",
   "metadata": {},
   "source": [
    "# <font color=#003366><b>[Réponse 1.1]</b></font>\n",
    " \n",
    "Ecrivez votre réponse ici \n",
    "\n",
    "\n",
    "\n",
    "Si on suppose que :\n",
    "\n",
    "\\begin{equation}\n",
    "A=\n",
    "\\begin{pmatrix}\n",
    "x & y & z \\\\\n",
    "x & y & z \\\\\n",
    "x & y & z \n",
    "\\end{pmatrix}\n",
    "\\end{equation}\n",
    "\n",
    "Alors le système devient:\n",
    "\n",
    "\\begin{equation}\n",
    "p_E^{m+1} = xp_E^{m} + yp_I^{m} + zp_E^{O}\\\\\n",
    "p_I^{m+1} = xp_E^{m} + yp_I^{m} + zp_E^{O} \\\\\n",
    "p_O^{m+1} = xp_E^{m} + yp_I^{m} + zp_E^{O}\n",
    "\\end{equation}\n",
    "\n",
    "Après lecture de l'énoncé , on obtient:\n",
    "\n",
    "\\begin{equation}\n",
    "p_E^{m+1} = \\frac{1}{2}p_E^{m} + \\frac{1}{4}p_I^{m} + \\frac{1}{6}p_E^{O}\\\\\n",
    "p_I^{m+1} = \\frac{1}{2}p_E^{m} + \\frac{1}{3}p_I^{m} + \\frac{1}{6}p_E^{O} \\\\\n",
    "p_O^{m+1} = 0p_E^{m} + \\frac{3}{4}p_I^{m} + 0p_E^{O}\n",
    "\\end{equation}\n",
    "\n",
    "\n",
    "Donc:\n",
    "\n",
    "\\begin{equation}\n",
    "A=\n",
    "\\begin{pmatrix}\n",
    "\\frac{1}{2} & \\frac{1}{4} &\\frac{1}{6} \\\\\n",
    "\\frac{1}{2} & \\frac{1}{3} &\\frac{1}{6}\\\\\n",
    "0   & \\frac{3}{4} & 0\n",
    "\\end{pmatrix}\n",
    "\\end{equation}\n"
   ]
  },
  {
   "cell_type": "markdown",
   "metadata": {},
   "source": [
    "<div class=\"alert alert-info\">\n",
    "<b>[Question 1.2]</b> \n",
    "Ecrivez le corps de la fonction <samp>stateAtNextTime(A,P0)</samp> dont les spécifications sont données dans la cellule ci-dessous. <br>\n",
    "[Note] Utilisez la fonction <samp>multiply(A,B)</samp> du premier devoir en l'adaptant pour qu'elle puisse prendre des numpy arrays en argument. Si votre fonction n'est pas utilisable, reprenez la fonction <samp>multiply</samp> de la librairie <samp>numpy</samp>. \n",
    "</div>"
   ]
  },
  {
   "cell_type": "code",
   "execution_count": 1,
   "metadata": {},
   "outputs": [
    {
     "name": "stdout",
     "output_type": "stream",
     "text": [
      "[[14.25], [18.333333333333332], [36.75]]\n"
     ]
    }
   ],
   "source": [
    "import numpy as np \n",
    "\n",
    "\"\"\"\n",
    "DESCRIPTION : stateAtNextTime allows to provide the system state (= vector [PE(m+1), PI(m+1), PO(m+1)]) \n",
    "at time m+1 knowing the state of the system at the previous time ([PE(m), PI(m), PO(m)]) and the changing \n",
    "state matrix A. \n",
    " \n",
    "INPUTS : \n",
    "    - A: A 3x3 numpy array which describes the system \n",
    "    - Pm: A 3x1 numpy array which describes the state of the system at time m\n",
    "OUTPUTS :\n",
    "    - A 3x1 numpy array which describes the state of the system at time m+1\n",
    "\"\"\"\n",
    "def stateAtNextTime(A, Pm):\n",
    "    A = np.array(A)\n",
    "    B = np.array(Pm)\n",
    "    def multiply(A,B):\n",
    "        \"MULTIPLICATION MATRICIELLE\"\n",
    "        # Cette fonction matrice génère la matrice de sortie après la multiplication\n",
    "        def matrice(A,B):\n",
    "            matrix=[]\n",
    "            for i in range(len(A)):\n",
    "                l=[]\n",
    "                for j in range(len(B[0])):\n",
    "                    l.append(0)\n",
    "                matrix.append(l)\n",
    "            return matrix \n",
    "        m=matrice(A,B) \n",
    "        #Verifie si les deux matrices ont la même dimension sinon lève une exception au else \n",
    "        if len(A[0])== len(B):\n",
    "            #Parcours les lignes de la première matrice\n",
    "            for i in range(len(A)):\n",
    "                #Parcours les lignes de la deuxième matrice\n",
    "                for j in range(len(B)):\n",
    "                    #Parcours les colonnes de la deuxième matrice\n",
    "                    for k in range(len(B[0])):\n",
    "                        m[i][k]+= A[i][j] * B[j][k]\n",
    "            return m\n",
    "        else:\n",
    "            raise Exception('Dimension mismatch')\n",
    "    return multiply(A,B)\n",
    "        \n",
    "print(stateAtNextTime( [[1/2, 1/4 ,1/6], [1/2 ,1/3 ,1/6], [0 ,3/4, 0 ]],[[2],[49],[6]]))\n",
    "\n",
    "\n",
    "    "
   ]
  },
  {
   "cell_type": "markdown",
   "metadata": {},
   "source": [
    "<font size=5 color=#003366> <b>2. Calculer la population au temps $m$ </b> </font> <br> \n",
    "\n",
    "<div class=\"alert alert-info\">\n",
    "<b>[Question 2.1]</b> \n",
    "Exprimez $\\left(p_E^{m}, p_I^{m}, p_O^{m} \\right)$ en fonction de $A$ et de $\\left(p_E^{0}, p_I^{0}, p_O^{0} \\right)$\n",
    "</div>\n",
    "\n",
    "\n",
    "<font color=#003366><b>[Réponse 2]</b></font>  La <font color=#003366>**population au temps $m$**</font> peut s'obtenir <font color=#003366>**à partir de la population au temps $0$**</font> par la formule <br> <br>\n",
    "$$\n",
    "\\begin{pmatrix} \n",
    "p_E^{m} \\\\\n",
    "p_I^{m} \\\\\n",
    "p_O^{m} \n",
    "\\end{pmatrix}\n",
    "= \n",
    "A^m\n",
    "\\begin{pmatrix} \n",
    "p_E^{0} \\\\\n",
    "p_I^{0} \\\\\n",
    "p_O^{0} \n",
    "\\end{pmatrix}\n",
    "$$\n",
    "<br><br>"
   ]
  },
  {
   "cell_type": "markdown",
   "metadata": {},
   "source": [
    "<div class=\"alert alert-info\">\n",
    "<b>[Question 2.2]</b> \n",
    "Ecrivez le corps de la fonction <samp>stateAtAnyTime(A,P0,m)</samp> dont les spécifications sont données dans la cellule ci-dessous. <br>\n",
    "</div>"
   ]
  },
  {
   "cell_type": "code",
   "execution_count": 4,
   "metadata": {},
   "outputs": [
    {
     "name": "stdout",
     "output_type": "stream",
     "text": [
      "[[14.859953703703702], [16.331790123456788], [13.246527777777779]]\n"
     ]
    }
   ],
   "source": [
    "\"\"\"\n",
    "DESCRIPTION : stateAtAnyTime allows to provide the system state (= vector [PE(m), PI(m), PO(m)]) \n",
    "at time m knowing the initial state of the system ([PE(0), PI(0), PO(0)]) and the changing state matrix A. \n",
    "\n",
    "INPUTS : \n",
    "    - A: A 3x3 numpy array which describes the system \n",
    "    - P0: A 3x1 numpy array which describes the initial state of the system (m=0)\n",
    "    - m: the time at which we want to describe the system\n",
    "OUTPUTS :\n",
    "    - A 3x1 numpy array which describes the state of the system at time m>0\n",
    "\"\"\"\n",
    "\n",
    "def stateAtAnyTime(A, P0, m):\n",
    "    if m<=0:\n",
    "        raise ValueError(\"m doit être strictement superieur à 0\")\n",
    "    if m==1:\n",
    "        return stateAtNextTime(A,P0)\n",
    "    resultat = stateAtNextTime(A,A)\n",
    "    for i in range(1,m-1):\n",
    "        resultat = stateAtNextTime(resultat,A)\n",
    "    return stateAtNextTime(resultat,P0)\n",
    "\n",
    "\n",
    "print(stateAtAnyTime( [[1/2, 1/4 ,1/6], [1/2 ,1/3 ,1/6], [0 ,3/4, 0 ]],[[2],[49],[6]],4))\n",
    "\n"
   ]
  },
  {
   "cell_type": "markdown",
   "metadata": {},
   "source": [
    "<font size=5 color=#003366> <b>3. Montrer si la maladie est appelée à s'éteindre ou au contraire à se propager.</b> </font> <br> \n",
    "\n",
    "\n",
    "<font size=5 color=#003366> <b>3.1. Démonstration empirique.</b> </font> <br> \n",
    "\n",
    "<div class=\"alert alert-info\">\n",
    "<b>[Question 3.1]</b> \n",
    "En utilisant votre fonction <samp>stateAtAnyTime(A,P0,m)</samp>, effectuez 3 graphes pour montrer respectivement: <br> \n",
    "   - l'évolution de $p_E$ au cours du temps; <br> \n",
    "   - l'évolution de $p_I$ au cours du temps;<br> \n",
    "   - l'évolution de $p_O$ au cours du temps; <br><br>\n",
    "   \n",
    "Comment l'utilation d'une fonction logarithmique pourrait aider à représenter les tendances de ces valeurs au cours du temps?\n",
    "</div>\n",
    "Une fonction logarithmique va permettre d'établir une formule simple pour pouvoir réprésenter une évolution au cours du temps sans manipuler des nombres astronomiques."
   ]
  },
  {
   "cell_type": "code",
   "execution_count": 14,
   "metadata": {},
   "outputs": [
    {
     "data": {
      "image/png": "[encoded data removed]",
      "text/plain": [
       "<Figure size 720x432 with 1 Axes>"
      ]
     },
     "metadata": {
      "needs_background": "light"
     },
     "output_type": "display_data"
    },
    {
     "name": "stdout",
     "output_type": "stream",
     "text": [
      "None\n"
     ]
    }
   ],
   "source": [
    "import matplotlib.pyplot as plt\n",
    "\n",
    "def graphe(A,Pm,m):\n",
    "    matrix,x,p1,p2,p3=[],[],[],[],[]\n",
    "    for i in range(1,m+1):\n",
    "        matrix.append(stateAtAnyTime(A,Pm,i))\n",
    "    for i in range(m):\n",
    "        p1.append(matrix[i][0][0])\n",
    "        p2.append(matrix[i][1][0])\n",
    "        p3.append(matrix[i][2][0])\n",
    "        x.append(i+1)\n",
    "    plt.figure(figsize=(10, 6))\n",
    "    plt.plot(x,p1 , 'r',label=\"PE\")\n",
    "    plt.plot(x,p2 , 'y',label=\"PI\")\n",
    "    plt.plot(x,p3, 'g',label=\"PO\")\n",
    "    plt.legend()    \n",
    "    plt.ylabel('Evolution au cours du temps(m)')\n",
    "    plt.xlabel('Nombres de semaines(m)')\n",
    "    plt.show()\n",
    "\n",
    "\n",
    "print(graphe([[1/2, 1/4 ,1/6], [1/2 ,1/3 ,1/6], [0 ,3/4, 0 ]],[[2],[49],[6]],10))\n",
    "\n",
    "\n"
   ]
  },
  {
   "cell_type": "markdown",
   "metadata": {},
   "source": [
    "<font size=5 color=#003366> <b>3.2. Démonstration théorique.</b> </font> <br> \n",
    "\n",
    "<div class=\"alert alert-info\">\n",
    "<b>[Question 3.2]</b> \n",
    "La matrice $A$ possède une propriété spéciale: elle est diagonalisable. Cela signifie qu'il existe une matrice inversible $P$ et une matrice diagonale $D$ telles que nous pouvons écrire: \n",
    "$$ A = P D P^{-1} $$ <br>\n",
    "\n",
    "En sachant cela, pouvez-vous identifier des conditions précises sur la matrice $P$ (ou son inverse) ou sur la matrice $D$, afin de déterminer si la maladie est appelée à s'éteindre ou au contaire, à se propager?\n",
    "</div>\n",
    "\n",
    "<div class=\"alert alert-success\">\n",
    "<b>RAPPEL UTILE - Exercice 3.5 </b>  <br>\n",
    "Soit $M = P D P^{-1}$, où $D$ est une matrice diagonale et $P$ est inversible. Il est possible de montrer par induction que $M^k = P D^k P^{-1}$: \n",
    "$$ M^N = M^{N-1} \\cdot M = P D^{N-1} P^{-1} P D P = P D^{N-1} I D P^{-1} = P D^N P^{-1}$$\n",
    "</div>\n"
   ]
  },
  {
   "cell_type": "markdown",
   "metadata": {},
   "source": [
    "<font color=#003366><b>[Réponse 3.2]</b></font> \n",
    " \n",
    "Ecrivez votre réponse ici \n",
    "\n",
    "D'après le rappel juste au dessus\n",
    "\n",
    "\n",
    "\n",
    "<br><br>"
   ]
  },
  {
   "cell_type": "markdown",
   "metadata": {},
   "source": [
    "<font size=5 color=#003366> <b>3.3. Utiliser la diagonalisation pour accélérer le calcul.</b> </font> <br> \n",
    "\n",
    "<div class=\"alert alert-info\">\n",
    "<b>[Question 3.3]</b> \n",
    "Ecrivez le corps de la fonction <samp>stateAtAnyTime_withDiagonalization(A,P0,m)</samp> dont les spécifications sont données dans la cellule ci-dessous. <br>\n",
    "[Note] La fonction <samp>diagonalize</samp> de la librairie <samp>sympy</samp> devrait vous être utile!\n",
    "</div>"
   ]
  },
  {
   "cell_type": "code",
   "execution_count": 11,
   "metadata": {},
   "outputs": [
    {
     "name": "stdout",
     "output_type": "stream",
     "text": [
      "[[14.859953678093232], [16.331790095306957], [13.246527754923422]]\n"
     ]
    }
   ],
   "source": [
    "from sympy import Matrix\n",
    "\n",
    "\"\"\"\n",
    "DESCRIPTION : stateAtAnyTime_withDiagonalization allows to provide the system state (= vector [PE(m), PI(m), PO(m)]) \n",
    "at time m knowing the initial state of the system ([PE(0), PI(0), PO(0)]) and the diagonalization of the \n",
    "the changing state matrix A.\n",
    "\n",
    "INPUTS : \n",
    "    - P, D, P_inv: matrices obtained by the diagonalization of A such that A = P*D*P_inv\n",
    "    - P0: A 3x1 numpy array which describes the initial state of the system (m=0)\n",
    "    - m: the time at which we want to describe the system\n",
    "OUTPUTS :\n",
    "    - A 3x1 numpy array which describes the state of the system at time m>0\n",
    "\"\"\"\n",
    "\n",
    "def stateAtAnyTime_withDiagonalization(P, D, P_inv, P0, m):\n",
    "    mul1 = D\n",
    "    for i in range(1,m):\n",
    "        mul1 = stateAtNextTime(mul1,D)\n",
    "    return stateAtNextTime(stateAtNextTime(stateAtNextTime(P,mul1),P_inv),P0)\n",
    "        \n",
    "        \n",
    "        \n",
    "        \n",
    "\n",
    "\n",
    "print(stateAtAnyTime_withDiagonalization([[0.576874357444842, -0.332169699847419, 0.237285155552940],\n",
    "                                          [0.634088276319889, 4.66256114936158e-64, 0.123357066247932],\n",
    "                                          [0.514925269875419, 0.996509099542256, -1.02535280374507]],\n",
    "                                            [[0.923563544191518, 0, 0], [0, 1.57653599766961e-64, 0],[0, 0, -0.0902302108581850]],\n",
    "                                             [[ 0.77780489 , 0.65889959,  0.2592683 ],\n",
    "                                              [-4.51576408 , 4.51576408, -0.50175156],\n",
    "                                              [-3.99812493 , 4.71962824, -1.33270831]],[[2],[49],[6]],4))\n",
    "\n",
    "\n",
    "    "
   ]
  },
  {
   "cell_type": "markdown",
   "metadata": {},
   "source": [
    "<div class=\"alert alert-info\">\n",
    "<b>[Question 3.4]</b> \n",
    "Comparez les temps d'exécution des fonctions <samp>stateAtAnyTime(A,P0,m)</samp> et <samp>stateAtAnyTime_withDiagonalization(A,P0,m)</samp> pour un $m$ grand ($m>1000$) et commentez ce résultat.  <br>\n",
    "</div>"
   ]
  },
  {
   "cell_type": "code",
   "execution_count": 12,
   "metadata": {},
   "outputs": [
    {
     "name": "stdout",
     "output_type": "stream",
     "text": [
      "109.375\n",
      "93.75\n"
     ]
    }
   ],
   "source": [
    "import time\n",
    "\n",
    "# ----------------------------------\n",
    "# Method 1 - Without Diagonalization\n",
    "# ----------------------------------\n",
    "start = time.process_time()\n",
    "pos1 = stateAtAnyTime([[1/2, 1/4 ,1/6], [1/2 ,1/3 ,1/6], [0 ,3/4, 0 ]],[[2],[49],[6]],2000)\n",
    "stop = time.process_time()\n",
    "print((stop-start)*1000)\n",
    "\n",
    "\n",
    "# -------------------------------\n",
    "# Method 2 - With Diagonalization\n",
    "# -------------------------------\n",
    "start = time.process_time()\n",
    "pos2 = stateAtAnyTime_withDiagonalization([[0.576874357444842, -0.332169699847419, 0.237285155552940],\n",
    "                                          [0.634088276319889, 4.66256114936158e-64, 0.123357066247932],\n",
    "                                          [0.514925269875419, 0.996509099542256, -1.02535280374507]],\n",
    "                                            [[0.923563544191518, 0, 0], [0, 1.57653599766961e-64, 0],[0, 0, -0.0902302108581850]],\n",
    "                                             [[ 0.77780489 , 0.65889959,  0.2592683 ],\n",
    "                                              [-4.51576408 , 4.51576408, -0.50175156],\n",
    "                                              [-3.99812493 , 4.71962824, -1.33270831]],[[2],[49],[6]],2000)\n",
    "\n",
    "\n",
    "stop = time.process_time()\n",
    "print((stop-start)*1000)"
   ]
  },
  {
   "cell_type": "markdown",
   "metadata": {},
   "source": [
    "<font color=#003366><b>[Réponse 3.4]</b></font> \n",
    " \n",
    "Ecrivez votre réponse ici \n",
    "\n",
    "<br> La fonction stateAtAnyTime_withDiagonalization(A,P0,m) s'exécute plus vite que la fonction stateAtAnyTime(A,P0,m)<br>\n"
   ]
  },
  {
   "cell_type": "code",
   "execution_count": null,
   "metadata": {},
   "outputs": [],
   "source": []
  }
 ],
 "metadata": {
  "kernelspec": {
   "display_name": "Python 3",
   "language": "python",
   "name": "python3"
  },
  "language_info": {
   "codemirror_mode": {
    "name": "ipython",
    "version": 3
   },
   "file_extension": ".py",
   "mimetype": "text/x-python",
   "name": "python",
   "nbconvert_exporter": "python",
   "pygments_lexer": "ipython3",
   "version": "3.8.5"
  }
 },
 "nbformat": 4,
 "nbformat_minor": 2
}
