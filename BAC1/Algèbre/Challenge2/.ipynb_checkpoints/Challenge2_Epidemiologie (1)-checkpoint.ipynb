{
 "cells": [
  {
   "cell_type": "markdown",
   "metadata": {},
   "source": [
    "<font size=6  color=#003366> <b>[LINFO1112] - Algèbre <br><br> \n",
    "Un problème d'épidémiologie... </b> </font> <br><br><br>\n",
    "\n",
    "<font size=5  color=#003366>\n",
    "Prof. C. Craeye<br>\n",
    "Prof. T. Peters<br>\n",
    "<br><br>\n",
    "Benoit Brummer     (benoit.brummer@uclouvain.be) <br>\n",
    "Anne-Sophie Collin (anne-sophie.collin@uclouvain.be)<br>\n",
    "Simon Demey        (simon.demey@uclouvain.be)<br>\n",
    "Thibaut Grouy      (thibaut.grouy@uclouvain.be)<br>\n",
    "Mathieu Xhonneux   (mathieu.xhonneux@uclouvain.be)<br>\n",
    "<div style=\"text-align: right\"> Année 2020-2021 </div>\n",
    "<br><br>\n",
    "</font>"
   ]
  },
  {
   "cell_type": "markdown",
   "metadata": {},
   "source": [
    "<font size=4  color=#003366> <b>Veuillez indiquez la composition de votre groupe ici : </b> <br>\n",
    "Etudiant 1 : Balde - Lamarana <br>\n",
    "Etudiant 2 : Diallo - Ibrahima <br>\n",
    "<br><br>\n",
    "</font>"
   ]
  },
  {
   "cell_type": "markdown",
   "metadata": {},
   "source": [
    "<font size=5 color=#003366> <b> Description du problème </b> </font> <br> \n",
    "\n",
    "<div class=\"alert alert-info\">\n",
    "Gotham City est en émoi. Une maladie inconnue et contagieuse vient de frapper la ville. L'asile d'Arkham a été vidé de ses pensionnaires criminels et transformé en un hôpital spécialisé dédié à combattre l'épidémie.\n",
    "Vous êtes contactés par une équipe d'épidémiologistes pour fournir une analyse de l'évolution des malades. Le modèle dynamique est le suivant.<br>\n",
    "\n",
    "<ol>\n",
    "    <d> Les patients sont séparés en trois catégories. Les patients exposés (E) sont ceux qui sont soupçonnés d'avoir la maladie parce qu'ils ont eu des contacts avec des personnes infectées. Ils sont installés dans l'aile Est d'Arkham où ils sont surveillés. Ils n'ont pas de symptôme mais sont potentiellement contagieux. Les patients infectés (I) sont ceux qui présentent des symptômes. Ils sont soignés dans l'aile Nord. Enfin, les patients en rémission sont placés en observation (O) dans l'aile Ouest pendant quelques temps avant d'être déclarés guéris.<br><br>\n",
    "   \n",
    "   <d> Les études préliminaires montrent que les patients <font color=#003366><b>exposés (E) ont une chance sur deux d'être effectivement infectés</b></font> et de développer des symptômes au bout d'une semaine. Les autres sont renvoyés chez eux. Par ailleurs, sur une période d'une semaine, on observe que <font color=#003366><b>1/4 des personnes infectées (I) succombent</b></font> à leur maladie tandis que <font color=#003366><b>le reste est mis en observation (O)</b></font> pour une semaine supplémentaire. Parmi les patients en <font color=#003366><b>observation (O), 1/6 est encore susceptible de faire une rechute</b></font> et de développer de nouveaux symptômes (ils sont donc transférés vers l'aile des patients exposés) et une autre proportion de <font color=#003366><b>1/6 refait directement des symptômes </b></font> (ils sont donc transférés vers l'aile des patients infectés). Les autres sont renvoyés chez eux.<br><br>\n",
    "   \n",
    "   <d> Comme la maladie sévit aussi dans la ville, l'hôpital est bien forcé d'admettre chaque semaine de nouveaux patients. Le nombre de <font color=#003366><b>nouveaux patients exposés correspond à environ la moitié des patients exposés déjà présents avant leur arrivée</b></font>. D'autres nouveaux patients arrivent directement avec des symptômes et sont donc envoyés dans l'aile des personnes infectées: ces <font color=#003366><b>nouveaux infectés correspondent à un tiers des personnes infectées déjà présentes avant leur arrivée</b></font>. Par ailleurs, le personnel soignant, par manque de moyens et d'effectifs, commet des erreurs et se retrouve parfois en contact direct avec les patients infectés: <font color=#003366><b>chaque infecté génère donc de nouveaux exposés à raison d'une proportion de 25%</b></font>, par semaine. <br><br>\n",
    "</ol>\n",
    "\n",
    "En notant respectivement $p_E^m$, $p_I^m$, $p_O^m$ la population de malades exposés, infectés et en observation après $m$ semaines, l'évolution des patients peut être décrite par une relation de la forme:\n",
    "<font color=#003366><b>\n",
    "$$\n",
    "\\begin{pmatrix} \n",
    "p_E^{m+1} \\\\\n",
    "p_I^{m+1} \\\\\n",
    "p_O^{m+1} \n",
    "\\end{pmatrix}\n",
    "= \n",
    "A \n",
    "\\begin{pmatrix} \n",
    "p_E^{m} \\\\\n",
    "p_I^{m} \\\\\n",
    "p_O^{m} \n",
    "\\end{pmatrix}\n",
    "$$</b></font><br>\n",
    "\n",
    "où $A$ est une matrice carrée d'ordre 3 dont les coefficients peuvent être déterminés par les données du problème. Répondez aux questions ci-dessous. \n",
    "</div>\n",
    "<br><br>"
   ]
  },
  {
   "cell_type": "raw",
   "metadata": {},
   "source": [
    "# <font size=5 color=#003366> <b>1. Trouver la matrice A</b> </font> <br> \n",
    "\n",
    "<div class=\"alert alert-info\">\n",
    "<b>[Question 1.1]</b> \n",
    "La matrice A est une matrice carrée d’ordre 3. Donnez sa forme explicite.<br>\n",
    "<i>Indice: Ecrivez la relation matricielle précédente sous forme d'un système de 3 équations à 3 inconnues. </i> \n",
    "</div>"
   ]
  },
  {
   "cell_type": "markdown",
   "metadata": {},
   "source": [
    "<font color=#003366><b>[Réponse 1.1]</b></font>\n",
    " \n",
    "Ecrivez votre réponse ici \n",
    "\n",
    "<br><br>"
   ]
  },
  {
   "cell_type": "markdown",
   "metadata": {},
   "source": [
    "<div class=\"alert alert-info\">\n",
    "<b>[Question 1.2]</b> \n",
    "Ecrivez le corps de la fonction <samp>stateAtNextTime(A,P0)</samp> dont les spécifications sont données dans la cellule ci-dessous. <br>\n",
    "[Note] Utilisez la fonction <samp>multiply(A,B)</samp> du premier devoir en l'adaptant pour qu'elle puisse prendre des numpy arrays en argument. Si votre fonction n'est pas utilisable, reprenez la fonction <samp>multiply</samp> de la librairie <samp>numpy</samp>. \n",
    "</div>"
   ]
  },
  {
   "cell_type": "code",
   "execution_count": 1,
   "metadata": {},
   "outputs": [],
   "source": [
    "import numpy as np \n",
    "\n",
    "\"\"\"\n",
    "DESCRIPTION : stateAtNextTime allows to provide the system state (= vector [PE(m+1), PI(m+1), PO(m+1)]) \n",
    "at time m+1 knowing the state of the system at the previous time ([PE(m), PI(m), PO(m)]) and the changing \n",
    "state matrix A. \n",
    " \n",
    "INPUTS : \n",
    "    - A: A 3x3 numpy array which describes the system \n",
    "    - Pm: A 3x1 numpy array which describes the state of the system at time m\n",
    "OUTPUTS :\n",
    "    - A 3x1 numpy array which describes the state of the system at time m+1\n",
    "\"\"\"\n",
    "def stateAtNextTime(A, Pm): \n",
    "    return ...\n",
    "    "
   ]
  },
  {
   "cell_type": "markdown",
   "metadata": {},
   "source": [
    "<font size=5 color=#003366> <b>2. Calculer la population au temps $m$ </b> </font> <br> \n",
    "\n",
    "<div class=\"alert alert-info\">\n",
    "<b>[Question 2.1]</b> \n",
    "Exprimez $\\left(p_E^{m}, p_I^{m}, p_O^{m} \\right)$ en fonction de $A$ et de $\\left(p_E^{0}, p_I^{0}, p_O^{0} \\right)$\n",
    "</div>\n",
    "\n",
    "\n",
    "<font color=#003366><b>[Réponse 2]</b></font>  La <font color=#003366>**population au temps $m$**</font> peut s'obtenir <font color=#003366>**à partir de la population au temps $0$**</font> par la formule <br> <br>\n",
    "$$\n",
    "\\begin{pmatrix} \n",
    "p_E^{m} \\\\\n",
    "p_I^{m} \\\\\n",
    "p_O^{m} \n",
    "\\end{pmatrix}\n",
    "= \n",
    "A^m\n",
    "\\begin{pmatrix} \n",
    "p_E^{0} \\\\\n",
    "p_I^{0} \\\\\n",
    "p_O^{0} \n",
    "\\end{pmatrix}\n",
    "$$\n",
    "<br><br>"
   ]
  },
  {
   "cell_type": "markdown",
   "metadata": {},
   "source": [
    "<div class=\"alert alert-info\">\n",
    "<b>[Question 2.2]</b> \n",
    "Ecrivez le corps de la fonction <samp>stateAtAnyTime(A,P0,m)</samp> dont les spécifications sont données dans la cellule ci-dessous. <br>\n",
    "</div>"
   ]
  },
  {
   "cell_type": "code",
   "execution_count": 2,
   "metadata": {},
   "outputs": [],
   "source": [
    "\"\"\"\n",
    "DESCRIPTION : stateAtAnyTime allows to provide the system state (= vector [PE(m), PI(m), PO(m)]) \n",
    "at time m knowing the initial state of the system ([PE(0), PI(0), PO(0)]) and the changing state matrix A. \n",
    "\n",
    "INPUTS : \n",
    "    - A: A 3x3 numpy array which describes the system \n",
    "    - P0: A 3x1 numpy array which describes the initial state of the system (m=0)\n",
    "    - m: the time at which we want to describe the system\n",
    "OUTPUTS :\n",
    "    - A 3x1 numpy array which describes the state of the system at time m>0\n",
    "\"\"\"\n",
    "\n",
    "def stateAtAnyTime(A, P0, m):\n",
    "    return ...\n",
    "    "
   ]
  },
  {
   "cell_type": "markdown",
   "metadata": {},
   "source": [
    "<font size=5 color=#003366> <b>3. Montrer si la maladie est appelée à s'éteindre ou au contraire à se propager.</b> </font> <br> \n",
    "\n",
    "\n",
    "<font size=5 color=#003366> <b>3.1. Démonstration empirique.</b> </font> <br> \n",
    "\n",
    "<div class=\"alert alert-info\">\n",
    "<b>[Question 3.1]</b> \n",
    "En utilisant votre fonction <samp>stateAtAnyTime(A,P0,m)</samp>, effectuez 3 graphes pour montrer respectivement: <br> \n",
    "   - l'évolution de $p_E$ au cours du temps; <br> \n",
    "   - l'évolution de $p_I$ au cours du temps;<br> \n",
    "   - l'évolution de $p_O$ au cours du temps; <br><br>\n",
    "   \n",
    "Comment l'utilation d'une fonction logarithmique pourrait aider à représenter les tendances de ces valeurs au cours du temps?\n",
    "</div>"
   ]
  },
  {
   "cell_type": "code",
   "execution_count": 3,
   "metadata": {},
   "outputs": [],
   "source": [
    "import matplotlib.pyplot as plt\n",
    "\n"
   ]
  },
  {
   "cell_type": "markdown",
   "metadata": {},
   "source": [
    "<font size=5 color=#003366> <b>3.2. Démonstration théorique.</b> </font> <br> \n",
    "\n",
    "<div class=\"alert alert-info\">\n",
    "<b>[Question 3.2]</b> \n",
    "La matrice $A$ possède une propriété spéciale: elle est diagonalisable. Cela signifie qu'il existe une matrice inversible $P$ et une matrice diagonale $D$ telles que nous pouvons écrire: \n",
    "$$ A = P D P^{-1} $$ <br>\n",
    "\n",
    "En sachant cela, pouvez-vous identifier des conditions précises sur la matrice $P$ (ou son inverse) ou sur la matrice $D$, afin de déterminer si la maladie est appelée à s'éteindre ou au contaire, à se propager?\n",
    "</div>\n",
    "\n",
    "<div class=\"alert alert-success\">\n",
    "<b>RAPPEL UTILE - Exercice 3.5 </b>  <br>\n",
    "Soit $M = P D P^{-1}$, où $D$ est une matrice diagonale et $P$ est inversible. Il est possible de montrer par induction que $M^k = P D^k P^{-1}$: \n",
    "$$ M^N = M^{N-1} \\cdot M = P D^{N-1} P^{-1} P D P = P D^{N-1} I D P^{-1} = P D^N P^{-1}$$\n",
    "</div>\n"
   ]
  },
  {
   "cell_type": "markdown",
   "metadata": {},
   "source": [
    "<font color=#003366><b>[Réponse 3.2]</b></font> \n",
    " \n",
    "Ecrivez votre réponse ici \n",
    "\n",
    "<br><br>"
   ]
  },
  {
   "cell_type": "markdown",
   "metadata": {},
   "source": [
    "<font size=5 color=#003366> <b>3.3. Utiliser la diagonalisation pour accélérer le calcul.</b> </font> <br> \n",
    "\n",
    "<div class=\"alert alert-info\">\n",
    "<b>[Question 3.3]</b> \n",
    "Ecrivez le corps de la fonction <samp>stateAtAnyTime_withDiagonalization(A,P0,m)</samp> dont les spécifications sont données dans la cellule ci-dessous. <br>\n",
    "[Note] La fonction <samp>diagonalize</samp> de la librairie <samp>sympy</samp> devrait vous être utile!\n",
    "</div>"
   ]
  },
  {
   "cell_type": "code",
   "execution_count": 4,
   "metadata": {},
   "outputs": [],
   "source": [
    "from sympy import Matrix\n",
    "\n",
    "\"\"\"\n",
    "DESCRIPTION : stateAtAnyTime_withDiagonalization allows to provide the system state (= vector [PE(m), PI(m), PO(m)]) \n",
    "at time m knowing the initial state of the system ([PE(0), PI(0), PO(0)]) and the diagonalization of the \n",
    "the changing state matrix A.\n",
    "\n",
    "INPUTS : \n",
    "    - P, D, P_inv: matrices obtained by the diagonalization of A such that A = P*D*P_inv\n",
    "    - P0: A 3x1 numpy array which describes the initial state of the system (m=0)\n",
    "    - m: the time at which we want to describe the system\n",
    "OUTPUTS :\n",
    "    - A 3x1 numpy array which describes the state of the system at time m>0\n",
    "\"\"\"\n",
    "\n",
    "def stateAtAnyTime_withDiagonalization(P, D, P_inv, P0, m):\n",
    "    return ...\n",
    "    "
   ]
  },
  {
   "cell_type": "markdown",
   "metadata": {},
   "source": [
    "<div class=\"alert alert-info\">\n",
    "<b>[Question 3.4]</b> \n",
    "Comparez les temps d'exécution des fonctions <samp>stateAtAnyTime(A,P0,m)</samp> et <samp>stateAtAnyTime_withDiagonalization(A,P0,m)</samp> pour un $m$ grand ($m>1000$) et commentez ce résultat.  <br>\n",
    "</div>"
   ]
  },
  {
   "cell_type": "code",
   "execution_count": 5,
   "metadata": {},
   "outputs": [
    {
     "data": {
      "text/plain": [
       "Ellipsis"
      ]
     },
     "execution_count": 5,
     "metadata": {},
     "output_type": "execute_result"
    }
   ],
   "source": [
    "import time\n",
    "\n",
    "# ----------------------------------\n",
    "# Method 1 - Without Diagonalization\n",
    "# ----------------------------------\n",
    "...\n",
    "# -------------------------------\n",
    "# Method 2 - With Diagonalization\n",
    "# -------------------------------\n",
    "..."
   ]
  },
  {
   "cell_type": "markdown",
   "metadata": {},
   "source": [
    "<font color=#003366><b>[Réponse 3.4]</b></font> \n",
    " \n",
    "Ecrivez votre réponse ici \n",
    "\n",
    "<br><br>"
   ]
  },
  {
   "cell_type": "code",
   "execution_count": null,
   "metadata": {},
   "outputs": [],
   "source": []
  }
 ],
 "metadata": {
  "kernelspec": {
   "display_name": "Python 3",
   "language": "python",
   "name": "python3"
  },
  "language_info": {
   "codemirror_mode": {
    "name": "ipython",
    "version": 3
   },
   "file_extension": ".py",
   "mimetype": "text/x-python",
   "name": "python",
   "nbconvert_exporter": "python",
   "pygments_lexer": "ipython3",
   "version": "3.8.5"
  }
 },
 "nbformat": 4,
 "nbformat_minor": 2
}
